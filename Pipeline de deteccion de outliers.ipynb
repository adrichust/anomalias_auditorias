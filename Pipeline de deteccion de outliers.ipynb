{
 "cells": [
  {
   "cell_type": "markdown",
   "id": "d7ade25c",
   "metadata": {},
   "source": [
    "# Pipeline de Análisis de Outliers"
   ]
  }
 ],
 "metadata": {
  "interpreter": {
   "hash": "03ff50280649e48ad0c31ff4d8c7b6c289aa1c236bd5b29a71992b83ffd5cb40"
  },
  "kernelspec": {
   "display_name": "Python 3.9.7 ('env2')",
   "language": "python",
   "name": "python3"
  },
  "language_info": {
   "codemirror_mode": {
    "name": "ipython",
    "version": 3
   },
   "file_extension": ".py",
   "mimetype": "text/x-python",
   "name": "python",
   "nbconvert_exporter": "python",
   "pygments_lexer": "ipython3",
   "version": "3.9.7"
  }
 },
 "nbformat": 4,
 "nbformat_minor": 5
}
